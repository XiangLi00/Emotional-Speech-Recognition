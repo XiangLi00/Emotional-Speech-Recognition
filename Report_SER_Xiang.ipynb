{
 "cells": [
  {
   "cell_type": "markdown",
   "metadata": {},
   "source": [
    "# Introduction"
   ]
  },
  {
   "cell_type": "markdown",
   "metadata": {},
   "source": [
    "Do not spend too much time trying to get very tiny metrics improvement. Once you have a model with a correct predictive power, you should better spend time explaining your data cleaning & preparation pipeline as well as explanations & visualizations of the results.\n",
    "\n",
    "The goal is to see your fit with our company culture & engineering needs, spending 50h on an over-complicated approach will not give you bonus points compared to a simple, yet effective, to-the-point solution.\n",
    "\n",
    "This project is not supposed to take all your free time. Do not focus too much on tiny metrics improvement once you have an already working model. You will be judged on your coding skills, visualisations, vulgarisation and presentation. Good coding practices are strongly encouraged!\n",
    "The presentation should be roughly 5-10 minutes. Imagine you are presenting your project to one of our clients, i.e. a mix between technical and non-technical audience.\n",
    "\n"
   ]
  },
  {
   "cell_type": "markdown",
   "metadata": {},
   "source": [
    "## About the data"
   ]
  },
  {
   "cell_type": "markdown",
   "metadata": {},
   "source": [
    "The dataset you will be working with is called Emo-DB and can be found [here](http://emodb.bilderbar.info/index-1280.html).\n",
    "\n",
    "It is a database containing samples of emotional speech in German. It contains samples labeled with one of 7 different emotions: Anger, Boredom, Disgust, Fear, Happiness, Sadness and Neutral. \n",
    "\n",
    "Please download the full database and refer to the documentation to understand how the samples are labeled (see \"Additional information\")\n",
    "   \n",
    "The goal of this project is to develop a model which is able to **classify samples of emotional speech**. Feel free to use any available library you would need, but beware of re-using someone else's code without mentionning it!\n"
   ]
  },
  {
   "cell_type": "markdown",
   "metadata": {},
   "source": [
    "## Deliverable"
   ]
  },
  {
   "cell_type": "markdown",
   "metadata": {},
   "source": [
    "The end-goal is to deliver us:\n",
    "* This report filled with your approach, in the form of an **iPython Notebook**.\n",
    "* A **5-10 slides PDF file**, containing a very brief presentation covering the following points:\n",
    "    * Introduction to the problem (what are we trying to achieve and why) - max 1 slide\n",
    "    * Libraries used - max 1 slide\n",
    "    * Data Processing Pipeline - max 2 slides\n",
    "    * Feature Engineering (if relevant) - max 1 slide\n",
    "    * Modeling - max 1 slide\n",
    "    * Results & Visualization - max 2 slides\n",
    "* The goal of the presentation is to make it **understandable by a business person**, apart from how modeling techniques which do not have to be explained how they work."
   ]
  },
  {
   "cell_type": "markdown",
   "metadata": {},
   "source": [
    "# Libraries Loading"
   ]
  },
  {
   "cell_type": "code",
   "execution_count": 1,
   "metadata": {},
   "outputs": [],
   "source": [
    "import os\n",
    "from pathlib import Path\n",
    "import shutil\n",
    "\n",
    "import librosa\n",
    "import matplotlib.pyplot as plt\n",
    "import numpy as np\n",
    "import pandas as pd\n",
    "import seaborn as sns\n",
    "import sklearn\n",
    "from sklearn.model_selection import train_test_split,cross_val_score,StratifiedKFold\n",
    "from sklearn.preprocessing import StandardScaler\n",
    "from sklearn.svm import SVC\n",
    "from sklearn.metrics import balanced_accuracy_score,accuracy_score"
   ]
  },
  {
   "cell_type": "markdown",
   "metadata": {},
   "source": [
    "# Data Preparation & Cleaning"
   ]
  },
  {
   "cell_type": "code",
   "execution_count": 4,
   "metadata": {
    "scrolled": false
   },
   "outputs": [
    {
     "name": "stdout",
     "output_type": "stream",
     "text": [
      "The audio files have already been copied.\n"
     ]
    }
   ],
   "source": [
    "#Create a directory \"data_EmoDB\" storing the data\n",
    "#Call the path of this directory \"datapath\"\n",
    "#Audio files are stored in the subdirectory \"raw\"\n",
    "#CSV files are stored in the subdirectory \"processed\"\n",
    "if not os.path.exists(\"./data_EmoDB\"):\n",
    "    os.mkdir(\"data_EmoDB\")\n",
    "datapath=os.path.join(Path().absolute(),\"data_EmoDB\")\n",
    "\n",
    "#Create the subdirectory \"./data_EmoDB/processed\"\n",
    "if not os.path.exists(os.path.join(datapath,\"processed\")):\n",
    "    os.makedirs(os.path.join(datapath,\"processed\"))\n",
    "\n",
    "#Copy the downloaded audio files from ./download/wav to ./data_EmoDB/raw\n",
    "#Create the subdirectories \"raw\" and \"processed\"\n",
    "path_source=\"./download/wav\"\n",
    "path_dest=os.path.join(datapath,\"raw\")\n",
    "if not os.path.exists(path_dest):      \n",
    "    if os.path.exists(path_source):\n",
    "        #Create the subdirectory \"raw\"\n",
    "        os.makedirs(path_dest)\n",
    "        \n",
    "        #iterate through all files in the directory and copy all .wav files\n",
    "        for entry in os.scandir(path_source):\n",
    "            filename=entry.path\n",
    "            if filename.endswith(\"wav\"):\n",
    "                shutil.copy2(filename,path_dest)\n",
    "        print(\"The audio files were successfully copied to %s.\"\n",
    "              \" The folder 'download' may now be deleted.\"%(path_dest))\n",
    "        \n",
    "    else:\n",
    "        print(\"Error: The dataset was not found. Please download \"\n",
    "               \"the complete dataset from \\nhttp://emodb.bilderbar.info/index-1280.html\"\n",
    "              \" and extract it to the directory this Jupyter Notebook is stored. \"\n",
    "             \"\\nEnsure that the folder is named 'download'.\")\n",
    "else:\n",
    "    print(\"The audio files have already been copied.\")\n",
    "    \n",
    "\n",
    "    "
   ]
  },
  {
   "cell_type": "markdown",
   "metadata": {},
   "source": [
    "# Feature Engineering & Modeling"
   ]
  },
  {
   "cell_type": "code",
   "execution_count": 11,
   "metadata": {
    "scrolled": true
   },
   "outputs": [
    {
     "name": "stdout",
     "output_type": "stream",
     "text": [
      "Extracting labels and features.\n",
      "Labels and features successfully extracted.\n"
     ]
    }
   ],
   "source": [
    "def get_stats(matrix):\n",
    "    \"\"\"Returns the 0.05-quantile, the 0.2-quantile,..., and the 0.95-quantile.\n",
    "        \n",
    "        Outputs an one-dimensional array consisting of all numbers \n",
    "        'p-quantile(row i of matrix)', \n",
    "        where p is in {0.05, 0.2, 0.35, 0.5, 0.65, 0.8, 0.95}\n",
    "        and i is in {1,..., number of rows of matrix}\n",
    "    \n",
    "    \"\"\"\n",
    "    output=np.array([])\n",
    "    \n",
    "    #Use quantiles because they result in better performance than other statistics \n",
    "    #(such as the mean, variance, skewness, kurtosis, max, min, range)\n",
    "    quantiles=0.01*np.array(range(5,100,15))\n",
    "    for p in quantiles:\n",
    "        output=np.concatenate([output,np.quantile(matrix,p,axis=1)])\n",
    "    return output\n",
    "\n",
    "def is_valid_audio_file(file_path):\n",
    "    valid_labels={\"A\",\"E\",\"F\",\"L\",\"N\",\"T\",\"W\"}\n",
    "    return file_path.endswith(\".wav\") and len(file_path)>=6 and file_path[-6] in valid_labels\n",
    "\n",
    "print(\"Extracting labels and features.\")\n",
    "\n",
    "X=[]  #\"feature matrix\"\n",
    "y=[]  #\"label vector\"\n",
    "\n",
    "#Scan all files in the directory \"raw\"\n",
    "for file in os.scandir(os.path.join(datapath,\"raw\")):\n",
    "    if is_valid_audio_file(file.path):        \n",
    "        #Extract the label from the filename\n",
    "        #\"A\"≙fear, \"E\"≙disgust, \"F\"≙joy, \"L\"≙boredom, \"N\"≙neutral, \"T\"≙sadness, \"W\"≙anger\n",
    "        label=file.path[-6]\n",
    "        \n",
    "        #Extract the features\n",
    "        #First, the whole audio file is (automatically) split into shorter time frames\n",
    "        #Then, the MFCC and the energy are computed for each time frame\n",
    "        #Finally, the quantiles (over time) are used as features\n",
    "        #First-order and second-order MFCC are not used due to worse performance\n",
    "        audio,sr=librosa.load(file.path,sr=None)\n",
    "        #In the following matrix, the entry mfcc_(i,j) is the i-th coefficient of time frame j\n",
    "        mfcc=librosa.feature.mfcc(audio,sr,n_mfcc=35) \n",
    "        energy=librosa.feature.rms(audio)        \n",
    "        mfcc_stats=get_stats(mfcc) \n",
    "        energy_stats=get_stats(energy)\n",
    "        \n",
    "        #Append the features and the label\n",
    "        features=np.concatenate([mfcc_stats,energy_stats])\n",
    "        X.append(features)\n",
    "        y.append(label)\n",
    "\n",
    "#Split into training and test dataset\n",
    "seed=42\n",
    "X_train,X_test=train_test_split(X,train_size=0.8,random_state=seed)\n",
    "y_train,y_test=train_test_split(y,train_size=0.8,random_state=seed)\n",
    "\n",
    "#Standardize the features to have mean 0 and variance 1\n",
    "X_train=StandardScaler().fit_transform(X_train)\n",
    "X_test=StandardScaler().fit_transform(X_test)\n",
    "\n",
    "#Save the files in \"./data_EmoDB/processed/\"\n",
    "X_train=pd.DataFrame(X_train)\n",
    "X_test=pd.DataFrame(X_test)\n",
    "y_train=pd.DataFrame(y_train,columns=[\"y\"])\n",
    "y_test=pd.DataFrame(y_test,columns=[\"y\"])\n",
    "\n",
    "X_train.to_csv(os.path.join(datapath,\"processed\",\"X_train.csv\"),index=False)\n",
    "X_test.to_csv(os.path.join(datapath,\"processed\",\"X_test.csv\"),index=False)\n",
    "y_train.to_csv(os.path.join(datapath,\"processed\",\"y_train.csv\"),index=False)\n",
    "y_test.to_csv(os.path.join(datapath,\"processed\",\"y_test.csv\"),index=False)\n",
    "\n",
    "print(\"Labels and features successfully extracted.\")\n",
    "\n"
   ]
  },
  {
   "cell_type": "markdown",
   "metadata": {},
   "source": [
    "# Results & Visualizations"
   ]
  },
  {
   "cell_type": "code",
   "execution_count": 12,
   "metadata": {},
   "outputs": [
    {
     "name": "stdout",
     "output_type": "stream",
     "text": [
      "Balanced accuracy score using 10-fold CV (on the training set): 0.833\n",
      "Balanced accuracy score using 5-times 10-fold CV (on the training set): 0.834\n",
      "Balanced accuracy score on the test set: 0.861 \n",
      "\n"
     ]
    },
    {
     "data": {
      "image/png": "[encoded data removed]",
      "text/plain": [
       "<Figure size 432x288 with 2 Axes>"
      ]
     },
     "metadata": {
      "needs_background": "light"
     },
     "output_type": "display_data"
    },
    {
     "name": "stdout",
     "output_type": "stream",
     "text": [
      "\n",
      "\n",
      "              precision    recall  f1-score   support\n",
      "\n",
      "        Fear       0.81      0.93      0.87        14\n",
      "     Disgust       0.85      0.92      0.88        12\n",
      "         Joy       0.86      0.67      0.75        18\n",
      "     Boredom       0.94      0.75      0.83        20\n",
      "     Neutral       0.74      0.88      0.80        16\n",
      "     Sadness       1.00      1.00      1.00         9\n",
      "       Anger       0.80      0.89      0.84        18\n",
      "\n",
      "    accuracy                           0.84       107\n",
      "   macro avg       0.86      0.86      0.85       107\n",
      "weighted avg       0.85      0.84      0.84       107\n",
      "\n"
     ]
    }
   ],
   "source": [
    "def n_times_cv_score(estimator,X,y,n_jobs=None,scoring=None,\n",
    "                     n_splits=5,n_times=1,print_intermediate_results=False):\n",
    "    \"\"\"Returns an average cross validation score of a classifier.\n",
    "        \n",
    "        Performs 'n_splits'-fold cross validation 'n_times'-times \n",
    "        using the classifier 'estimator' and the scoring metric 'scoring' \n",
    "        and returns the mean cross validation score.\n",
    "    \n",
    "    \"\"\"\n",
    "    score=[]\n",
    "    for i in range(1,n_times+1):\n",
    "        kfold=StratifiedKFold(n_splits=n_splits,shuffle=True)\n",
    "        sc=cross_val_score(estimator=estimator,X=X,y=y,\n",
    "                           scoring=scoring,n_jobs=n_jobs,cv=kfold)\n",
    "        score.append(sc.mean())\n",
    "        if print_intermediate_results:\n",
    "            print(\"%d-th Iteration: %.4f\"%(i,np.mean(score)))\n",
    "    return np.mean(score)\n",
    "\n",
    "\n",
    "\n",
    "\n",
    "#Load training and test data\n",
    "current_path=Path().absolute()\n",
    "X_train=np.array(pd.read_csv(os.path.join(datapath,\"processed\",\"X_train.csv\")))\n",
    "X_test=np.array(pd.read_csv(os.path.join(datapath,\"processed\",\"X_test.csv\")))\n",
    "y_train=pd.read_csv(os.path.join(datapath,\"processed\",\"y_train.csv\")).values.ravel()\n",
    "y_test=pd.read_csv(os.path.join(datapath,\"processed\",\"y_test.csv\")).values.ravel()\n",
    "\n",
    "#Define the classifier\n",
    "clf=SVC(C=5000,gamma=0.0016,class_weight=\"balanced\")\n",
    "\n",
    "#Perform cross-validation on the training set\n",
    "n_splits=10 #number of folds\n",
    "#Use the metric \"balanced accuracy score\" due to (slight) class imbalance\n",
    "kfold=StratifiedKFold(n_splits=n_splits,shuffle=True,random_state=None)\n",
    "score_cv=cross_val_score(clf,X_train,y_train,\n",
    "                         scoring=\"balanced_accuracy\",cv=kfold,n_jobs=-1)\n",
    "print(\"Balanced accuracy score using %d-fold CV (on the training set): %.3f\"%(n_splits,score_cv.mean()))\n",
    "\n",
    "n_times=5 #How often cross validation is performed\n",
    "score_n_times_cv=n_times_cv_score(clf,X_train,y_train,n_jobs=8,\n",
    "                                  scoring=\"balanced_accuracy\",\n",
    "                                  n_splits=n_splits,n_times=n_times)\n",
    "print(\"Balanced accuracy score using %d-times %d-fold CV (on the training set): %.3f\"\n",
    "      %(n_times, n_splits,score_n_times_cv))\n",
    "\n",
    "#Compute the prediction accuracy on the test set\n",
    "clf.fit(X_train,y_train)\n",
    "y_pred=clf.predict(X_test)\n",
    "score_test=balanced_accuracy_score(y_test,y_pred)\n",
    "print(\"Balanced accuracy score on the test set: %.3f \\n\"%(score_test.mean()))\n",
    "\n",
    "#Print the confusion matrix\n",
    "confusion_matrix=sklearn.metrics.confusion_matrix(y_test,y_pred)\n",
    "#Arrange all labels/emotions in an alphabetical order (the Labels are in German)\n",
    "#because sklearn orders the labels in an alphabetical order\n",
    "target_names=[\"Fear\",\"Disgust\",\"Joy\",\"Boredom\",\"Neutral\",\"Sadness\",\"Anger\"] \n",
    "confusion_matrix_df = pd.DataFrame(confusion_matrix,\n",
    "                                   index=target_names, columns=target_names)\n",
    "\n",
    "heatmap=sns.heatmap(confusion_matrix_df, annot=True,cmap=\"YlGnBu\") \n",
    "heatmap.set_title(\"Confusion matrix on the test set\")\n",
    "heatmap.set_ylabel(\"True emotion\")\n",
    "heatmap.set_xlabel(\"Predicted emotion\")\n",
    "bottom, top = heatmap.get_ylim()\n",
    "heatmap.set_ylim(bottom + 0.5, top - 0.5) #Workaround for a bug in matplotlib\n",
    "plt.show()\n",
    "print(\"\\n\")\n",
    "\n",
    "#Print a classification report\n",
    "print(sklearn.metrics.classification_report(y_test,y_pred,target_names=target_names))"
   ]
  },
  {
   "cell_type": "code",
   "execution_count": null,
   "metadata": {},
   "outputs": [],
   "source": []
  }
 ],
 "metadata": {
  "kernelspec": {
   "display_name": "Python 3",
   "language": "python",
   "name": "python3"
  },
  "language_info": {
   "codemirror_mode": {
    "name": "ipython",
    "version": 3
   },
   "file_extension": ".py",
   "mimetype": "text/x-python",
   "name": "python",
   "nbconvert_exporter": "python",
   "pygments_lexer": "ipython3",
   "version": "3.7.3"
  }
 },
 "nbformat": 4,
 "nbformat_minor": 2
}
